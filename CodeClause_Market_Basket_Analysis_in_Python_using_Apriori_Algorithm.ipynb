{
  "nbformat": 4,
  "nbformat_minor": 0,
  "metadata": {
    "colab": {
      "provenance": []
    },
    "kernelspec": {
      "name": "python3",
      "display_name": "Python 3"
    },
    "language_info": {
      "name": "python"
    }
  },
  "cells": [
    {
      "cell_type": "markdown",
      "source": [
        "**CodeClause**"
      ],
      "metadata": {
        "id": "d59CK-am4wvX"
      }
    },
    {
      "cell_type": "markdown",
      "source": [
        "AUTHOR : ARYAN NAGNATH SALGE\n",
        "\n",
        "PROJECT 2: Market Basket Analysis in Python using Apriori Algorithm"
      ],
      "metadata": {
        "id": "tWPem5a04wr_"
      }
    },
    {
      "cell_type": "code",
      "source": [
        "!pip install apyori\n"
      ],
      "metadata": {
        "colab": {
          "base_uri": "https://localhost:8080/"
        },
        "id": "i5_WQsXW5KMf",
        "outputId": "77a29376-d353-46ea-e325-a9dfc28368fc"
      },
      "execution_count": 3,
      "outputs": [
        {
          "output_type": "stream",
          "name": "stdout",
          "text": [
            "Looking in indexes: https://pypi.org/simple, https://us-python.pkg.dev/colab-wheels/public/simple/\n",
            "Collecting apyori\n",
            "  Downloading apyori-1.1.2.tar.gz (8.6 kB)\n",
            "  Preparing metadata (setup.py) ... \u001b[?25l\u001b[?25hdone\n",
            "Building wheels for collected packages: apyori\n",
            "  Building wheel for apyori (setup.py) ... \u001b[?25l\u001b[?25hdone\n",
            "  Created wheel for apyori: filename=apyori-1.1.2-py3-none-any.whl size=5973 sha256=d9d0565aaccbf53bf82fa6275e0e85775b96e9c94db6a6c4adc5204bffb8afc5\n",
            "  Stored in directory: /root/.cache/pip/wheels/1b/02/6c/a45230be8603bd95c0a51cd2b289aefdd860c1a100eab73661\n",
            "Successfully built apyori\n",
            "Installing collected packages: apyori\n",
            "Successfully installed apyori-1.1.2\n"
          ]
        }
      ]
    },
    {
      "cell_type": "code",
      "execution_count": 4,
      "metadata": {
        "id": "Bp6eJ_Lv4un4"
      },
      "outputs": [],
      "source": [
        "import numpy as np\n",
        "import pandas as pd\n",
        "import matplotlib.pyplot as plt\n",
        "from apyori import apriori"
      ]
    },
    {
      "cell_type": "code",
      "source": [
        "df = pd.read_csv(\"/content/Market_Basket_Optimisation.csv\", header=None)\n",
        "display(df.head())"
      ],
      "metadata": {
        "colab": {
          "base_uri": "https://localhost:8080/",
          "height": 322
        },
        "id": "YgIkuGGe4-q3",
        "outputId": "220a210a-758e-4ee2-9276-495c1638215c"
      },
      "execution_count": 7,
      "outputs": [
        {
          "output_type": "display_data",
          "data": {
            "text/plain": [
              "              0          1           2                 3             4   \\\n",
              "0         shrimp    almonds     avocado    vegetables mix  green grapes   \n",
              "1        burgers  meatballs        eggs               NaN           NaN   \n",
              "2        chutney        NaN         NaN               NaN           NaN   \n",
              "3         turkey    avocado         NaN               NaN           NaN   \n",
              "4  mineral water       milk  energy bar  whole wheat rice     green tea   \n",
              "\n",
              "                 5     6               7             8             9   \\\n",
              "0  whole weat flour  yams  cottage cheese  energy drink  tomato juice   \n",
              "1               NaN   NaN             NaN           NaN           NaN   \n",
              "2               NaN   NaN             NaN           NaN           NaN   \n",
              "3               NaN   NaN             NaN           NaN           NaN   \n",
              "4               NaN   NaN             NaN           NaN           NaN   \n",
              "\n",
              "               10         11     12     13             14      15  \\\n",
              "0  low fat yogurt  green tea  honey  salad  mineral water  salmon   \n",
              "1             NaN        NaN    NaN    NaN            NaN     NaN   \n",
              "2             NaN        NaN    NaN    NaN            NaN     NaN   \n",
              "3             NaN        NaN    NaN    NaN            NaN     NaN   \n",
              "4             NaN        NaN    NaN    NaN            NaN     NaN   \n",
              "\n",
              "                  16               17       18         19  \n",
              "0  antioxydant juice  frozen smoothie  spinach  olive oil  \n",
              "1                NaN              NaN      NaN        NaN  \n",
              "2                NaN              NaN      NaN        NaN  \n",
              "3                NaN              NaN      NaN        NaN  \n",
              "4                NaN              NaN      NaN        NaN  "
            ],
            "text/html": [
              "\n",
              "  <div id=\"df-9688dddd-3323-426d-80dc-531518097f47\">\n",
              "    <div class=\"colab-df-container\">\n",
              "      <div>\n",
              "<style scoped>\n",
              "    .dataframe tbody tr th:only-of-type {\n",
              "        vertical-align: middle;\n",
              "    }\n",
              "\n",
              "    .dataframe tbody tr th {\n",
              "        vertical-align: top;\n",
              "    }\n",
              "\n",
              "    .dataframe thead th {\n",
              "        text-align: right;\n",
              "    }\n",
              "</style>\n",
              "<table border=\"1\" class=\"dataframe\">\n",
              "  <thead>\n",
              "    <tr style=\"text-align: right;\">\n",
              "      <th></th>\n",
              "      <th>0</th>\n",
              "      <th>1</th>\n",
              "      <th>2</th>\n",
              "      <th>3</th>\n",
              "      <th>4</th>\n",
              "      <th>5</th>\n",
              "      <th>6</th>\n",
              "      <th>7</th>\n",
              "      <th>8</th>\n",
              "      <th>9</th>\n",
              "      <th>10</th>\n",
              "      <th>11</th>\n",
              "      <th>12</th>\n",
              "      <th>13</th>\n",
              "      <th>14</th>\n",
              "      <th>15</th>\n",
              "      <th>16</th>\n",
              "      <th>17</th>\n",
              "      <th>18</th>\n",
              "      <th>19</th>\n",
              "    </tr>\n",
              "  </thead>\n",
              "  <tbody>\n",
              "    <tr>\n",
              "      <th>0</th>\n",
              "      <td>shrimp</td>\n",
              "      <td>almonds</td>\n",
              "      <td>avocado</td>\n",
              "      <td>vegetables mix</td>\n",
              "      <td>green grapes</td>\n",
              "      <td>whole weat flour</td>\n",
              "      <td>yams</td>\n",
              "      <td>cottage cheese</td>\n",
              "      <td>energy drink</td>\n",
              "      <td>tomato juice</td>\n",
              "      <td>low fat yogurt</td>\n",
              "      <td>green tea</td>\n",
              "      <td>honey</td>\n",
              "      <td>salad</td>\n",
              "      <td>mineral water</td>\n",
              "      <td>salmon</td>\n",
              "      <td>antioxydant juice</td>\n",
              "      <td>frozen smoothie</td>\n",
              "      <td>spinach</td>\n",
              "      <td>olive oil</td>\n",
              "    </tr>\n",
              "    <tr>\n",
              "      <th>1</th>\n",
              "      <td>burgers</td>\n",
              "      <td>meatballs</td>\n",
              "      <td>eggs</td>\n",
              "      <td>NaN</td>\n",
              "      <td>NaN</td>\n",
              "      <td>NaN</td>\n",
              "      <td>NaN</td>\n",
              "      <td>NaN</td>\n",
              "      <td>NaN</td>\n",
              "      <td>NaN</td>\n",
              "      <td>NaN</td>\n",
              "      <td>NaN</td>\n",
              "      <td>NaN</td>\n",
              "      <td>NaN</td>\n",
              "      <td>NaN</td>\n",
              "      <td>NaN</td>\n",
              "      <td>NaN</td>\n",
              "      <td>NaN</td>\n",
              "      <td>NaN</td>\n",
              "      <td>NaN</td>\n",
              "    </tr>\n",
              "    <tr>\n",
              "      <th>2</th>\n",
              "      <td>chutney</td>\n",
              "      <td>NaN</td>\n",
              "      <td>NaN</td>\n",
              "      <td>NaN</td>\n",
              "      <td>NaN</td>\n",
              "      <td>NaN</td>\n",
              "      <td>NaN</td>\n",
              "      <td>NaN</td>\n",
              "      <td>NaN</td>\n",
              "      <td>NaN</td>\n",
              "      <td>NaN</td>\n",
              "      <td>NaN</td>\n",
              "      <td>NaN</td>\n",
              "      <td>NaN</td>\n",
              "      <td>NaN</td>\n",
              "      <td>NaN</td>\n",
              "      <td>NaN</td>\n",
              "      <td>NaN</td>\n",
              "      <td>NaN</td>\n",
              "      <td>NaN</td>\n",
              "    </tr>\n",
              "    <tr>\n",
              "      <th>3</th>\n",
              "      <td>turkey</td>\n",
              "      <td>avocado</td>\n",
              "      <td>NaN</td>\n",
              "      <td>NaN</td>\n",
              "      <td>NaN</td>\n",
              "      <td>NaN</td>\n",
              "      <td>NaN</td>\n",
              "      <td>NaN</td>\n",
              "      <td>NaN</td>\n",
              "      <td>NaN</td>\n",
              "      <td>NaN</td>\n",
              "      <td>NaN</td>\n",
              "      <td>NaN</td>\n",
              "      <td>NaN</td>\n",
              "      <td>NaN</td>\n",
              "      <td>NaN</td>\n",
              "      <td>NaN</td>\n",
              "      <td>NaN</td>\n",
              "      <td>NaN</td>\n",
              "      <td>NaN</td>\n",
              "    </tr>\n",
              "    <tr>\n",
              "      <th>4</th>\n",
              "      <td>mineral water</td>\n",
              "      <td>milk</td>\n",
              "      <td>energy bar</td>\n",
              "      <td>whole wheat rice</td>\n",
              "      <td>green tea</td>\n",
              "      <td>NaN</td>\n",
              "      <td>NaN</td>\n",
              "      <td>NaN</td>\n",
              "      <td>NaN</td>\n",
              "      <td>NaN</td>\n",
              "      <td>NaN</td>\n",
              "      <td>NaN</td>\n",
              "      <td>NaN</td>\n",
              "      <td>NaN</td>\n",
              "      <td>NaN</td>\n",
              "      <td>NaN</td>\n",
              "      <td>NaN</td>\n",
              "      <td>NaN</td>\n",
              "      <td>NaN</td>\n",
              "      <td>NaN</td>\n",
              "    </tr>\n",
              "  </tbody>\n",
              "</table>\n",
              "</div>\n",
              "      <button class=\"colab-df-convert\" onclick=\"convertToInteractive('df-9688dddd-3323-426d-80dc-531518097f47')\"\n",
              "              title=\"Convert this dataframe to an interactive table.\"\n",
              "              style=\"display:none;\">\n",
              "        \n",
              "  <svg xmlns=\"http://www.w3.org/2000/svg\" height=\"24px\"viewBox=\"0 0 24 24\"\n",
              "       width=\"24px\">\n",
              "    <path d=\"M0 0h24v24H0V0z\" fill=\"none\"/>\n",
              "    <path d=\"M18.56 5.44l.94 2.06.94-2.06 2.06-.94-2.06-.94-.94-2.06-.94 2.06-2.06.94zm-11 1L8.5 8.5l.94-2.06 2.06-.94-2.06-.94L8.5 2.5l-.94 2.06-2.06.94zm10 10l.94 2.06.94-2.06 2.06-.94-2.06-.94-.94-2.06-.94 2.06-2.06.94z\"/><path d=\"M17.41 7.96l-1.37-1.37c-.4-.4-.92-.59-1.43-.59-.52 0-1.04.2-1.43.59L10.3 9.45l-7.72 7.72c-.78.78-.78 2.05 0 2.83L4 21.41c.39.39.9.59 1.41.59.51 0 1.02-.2 1.41-.59l7.78-7.78 2.81-2.81c.8-.78.8-2.07 0-2.86zM5.41 20L4 18.59l7.72-7.72 1.47 1.35L5.41 20z\"/>\n",
              "  </svg>\n",
              "      </button>\n",
              "      \n",
              "  <style>\n",
              "    .colab-df-container {\n",
              "      display:flex;\n",
              "      flex-wrap:wrap;\n",
              "      gap: 12px;\n",
              "    }\n",
              "\n",
              "    .colab-df-convert {\n",
              "      background-color: #E8F0FE;\n",
              "      border: none;\n",
              "      border-radius: 50%;\n",
              "      cursor: pointer;\n",
              "      display: none;\n",
              "      fill: #1967D2;\n",
              "      height: 32px;\n",
              "      padding: 0 0 0 0;\n",
              "      width: 32px;\n",
              "    }\n",
              "\n",
              "    .colab-df-convert:hover {\n",
              "      background-color: #E2EBFA;\n",
              "      box-shadow: 0px 1px 2px rgba(60, 64, 67, 0.3), 0px 1px 3px 1px rgba(60, 64, 67, 0.15);\n",
              "      fill: #174EA6;\n",
              "    }\n",
              "\n",
              "    [theme=dark] .colab-df-convert {\n",
              "      background-color: #3B4455;\n",
              "      fill: #D2E3FC;\n",
              "    }\n",
              "\n",
              "    [theme=dark] .colab-df-convert:hover {\n",
              "      background-color: #434B5C;\n",
              "      box-shadow: 0px 1px 3px 1px rgba(0, 0, 0, 0.15);\n",
              "      filter: drop-shadow(0px 1px 2px rgba(0, 0, 0, 0.3));\n",
              "      fill: #FFFFFF;\n",
              "    }\n",
              "  </style>\n",
              "\n",
              "      <script>\n",
              "        const buttonEl =\n",
              "          document.querySelector('#df-9688dddd-3323-426d-80dc-531518097f47 button.colab-df-convert');\n",
              "        buttonEl.style.display =\n",
              "          google.colab.kernel.accessAllowed ? 'block' : 'none';\n",
              "\n",
              "        async function convertToInteractive(key) {\n",
              "          const element = document.querySelector('#df-9688dddd-3323-426d-80dc-531518097f47');\n",
              "          const dataTable =\n",
              "            await google.colab.kernel.invokeFunction('convertToInteractive',\n",
              "                                                     [key], {});\n",
              "          if (!dataTable) return;\n",
              "\n",
              "          const docLinkHtml = 'Like what you see? Visit the ' +\n",
              "            '<a target=\"_blank\" href=https://colab.research.google.com/notebooks/data_table.ipynb>data table notebook</a>'\n",
              "            + ' to learn more about interactive tables.';\n",
              "          element.innerHTML = '';\n",
              "          dataTable['output_type'] = 'display_data';\n",
              "          await google.colab.output.renderOutput(dataTable, element);\n",
              "          const docLink = document.createElement('div');\n",
              "          docLink.innerHTML = docLinkHtml;\n",
              "          element.appendChild(docLink);\n",
              "        }\n",
              "      </script>\n",
              "    </div>\n",
              "  </div>\n",
              "  "
            ]
          },
          "metadata": {}
        }
      ]
    },
    {
      "cell_type": "code",
      "source": [
        "print(df.shape)"
      ],
      "metadata": {
        "colab": {
          "base_uri": "https://localhost:8080/"
        },
        "id": "LIjRzeUa4_nq",
        "outputId": "c4a1de2c-3271-47ec-d598-a2cfc75f846f"
      },
      "execution_count": 8,
      "outputs": [
        {
          "output_type": "stream",
          "name": "stdout",
          "text": [
            "(7501, 20)\n"
          ]
        }
      ]
    },
    {
      "cell_type": "code",
      "source": [
        "records = []\n",
        "for i in range(1, 7501):\n",
        "    records.append([str(df.values[i, j]) for j in range(0, 20)])\n",
        "     "
      ],
      "metadata": {
        "id": "-H_T3dun4_ll"
      },
      "execution_count": 9,
      "outputs": []
    },
    {
      "cell_type": "code",
      "source": [
        "print(type(records))\n"
      ],
      "metadata": {
        "colab": {
          "base_uri": "https://localhost:8080/"
        },
        "id": "Ut7QotOl4_jP",
        "outputId": "edd1631d-0618-4047-c770-10d8ccd71589"
      },
      "execution_count": 10,
      "outputs": [
        {
          "output_type": "stream",
          "name": "stdout",
          "text": [
            "<class 'list'>\n"
          ]
        }
      ]
    },
    {
      "cell_type": "code",
      "source": [
        "association_rules = apriori(records, min_support=0.0045, min_confidence=0.2, min_lift=3, min_length=2)\n",
        "association_results = list(association_rules)"
      ],
      "metadata": {
        "id": "v0L30M0G4_g5"
      },
      "execution_count": 11,
      "outputs": []
    },
    {
      "cell_type": "code",
      "source": [
        "print(\"There are {} Relations derived.\".format(len(association_results)))\n"
      ],
      "metadata": {
        "colab": {
          "base_uri": "https://localhost:8080/"
        },
        "id": "ftW9dUcL4_ez",
        "outputId": "41d6e79f-79e5-4c1d-d8a8-d59ba90cea85"
      },
      "execution_count": 13,
      "outputs": [
        {
          "output_type": "stream",
          "name": "stdout",
          "text": [
            "There are 48 Relation derived.\n"
          ]
        }
      ]
    },
    {
      "cell_type": "code",
      "source": [
        "for i in range(0, len(association_results)):\n",
        "    print(association_results[i][0])\n"
      ],
      "metadata": {
        "colab": {
          "base_uri": "https://localhost:8080/"
        },
        "id": "7y84Hgtc4_cd",
        "outputId": "8d634f13-e62c-4d4f-cba7-440159527a8b"
      },
      "execution_count": 14,
      "outputs": [
        {
          "output_type": "stream",
          "name": "stdout",
          "text": [
            "frozenset({'light cream', 'chicken'})\n",
            "frozenset({'mushroom cream sauce', 'escalope'})\n",
            "frozenset({'pasta', 'escalope'})\n",
            "frozenset({'herb & pepper', 'ground beef'})\n",
            "frozenset({'ground beef', 'tomato sauce'})\n",
            "frozenset({'olive oil', 'whole wheat pasta'})\n",
            "frozenset({'pasta', 'shrimp'})\n",
            "frozenset({'light cream', 'nan', 'chicken'})\n",
            "frozenset({'frozen vegetables', 'chocolate', 'shrimp'})\n",
            "frozenset({'ground beef', 'spaghetti', 'cooking oil'})\n",
            "frozenset({'nan', 'mushroom cream sauce', 'escalope'})\n",
            "frozenset({'pasta', 'nan', 'escalope'})\n",
            "frozenset({'frozen vegetables', 'spaghetti', 'ground beef'})\n",
            "frozenset({'olive oil', 'frozen vegetables', 'milk'})\n",
            "frozenset({'mineral water', 'frozen vegetables', 'shrimp'})\n",
            "frozenset({'olive oil', 'frozen vegetables', 'spaghetti'})\n",
            "frozenset({'frozen vegetables', 'spaghetti', 'shrimp'})\n",
            "frozenset({'frozen vegetables', 'spaghetti', 'tomatoes'})\n",
            "frozenset({'spaghetti', 'ground beef', 'grated cheese'})\n",
            "frozenset({'mineral water', 'herb & pepper', 'ground beef'})\n",
            "frozenset({'herb & pepper', 'nan', 'ground beef'})\n",
            "frozenset({'herb & pepper', 'spaghetti', 'ground beef'})\n",
            "frozenset({'olive oil', 'ground beef', 'milk'})\n",
            "frozenset({'nan', 'ground beef', 'tomato sauce'})\n",
            "frozenset({'shrimp', 'spaghetti', 'ground beef'})\n",
            "frozenset({'olive oil', 'spaghetti', 'milk'})\n",
            "frozenset({'mineral water', 'olive oil', 'soup'})\n",
            "frozenset({'olive oil', 'nan', 'whole wheat pasta'})\n",
            "frozenset({'pasta', 'shrimp', 'nan'})\n",
            "frozenset({'olive oil', 'pancakes', 'spaghetti'})\n",
            "frozenset({'shrimp', 'frozen vegetables', 'chocolate', 'nan'})\n",
            "frozenset({'ground beef', 'nan', 'cooking oil', 'spaghetti'})\n",
            "frozenset({'frozen vegetables', 'nan', 'ground beef', 'spaghetti'})\n",
            "frozenset({'mineral water', 'frozen vegetables', 'spaghetti', 'milk'})\n",
            "frozenset({'olive oil', 'frozen vegetables', 'nan', 'milk'})\n",
            "frozenset({'mineral water', 'frozen vegetables', 'nan', 'shrimp'})\n",
            "frozenset({'olive oil', 'frozen vegetables', 'nan', 'spaghetti'})\n",
            "frozenset({'frozen vegetables', 'nan', 'spaghetti', 'shrimp'})\n",
            "frozenset({'frozen vegetables', 'nan', 'spaghetti', 'tomatoes'})\n",
            "frozenset({'nan', 'ground beef', 'grated cheese', 'spaghetti'})\n",
            "frozenset({'mineral water', 'herb & pepper', 'nan', 'ground beef'})\n",
            "frozenset({'herb & pepper', 'nan', 'ground beef', 'spaghetti'})\n",
            "frozenset({'olive oil', 'nan', 'ground beef', 'milk'})\n",
            "frozenset({'shrimp', 'nan', 'ground beef', 'spaghetti'})\n",
            "frozenset({'olive oil', 'nan', 'milk', 'spaghetti'})\n",
            "frozenset({'mineral water', 'nan', 'soup', 'olive oil'})\n",
            "frozenset({'olive oil', 'pancakes', 'nan', 'spaghetti'})\n",
            "frozenset({'milk', 'frozen vegetables', 'nan', 'mineral water', 'spaghetti'})\n"
          ]
        }
      ]
    },
    {
      "cell_type": "code",
      "source": [
        "for item in association_results:\n",
        "   \n",
        "    pair = item[0]\n",
        "    items = [x for x in pair]\n",
        "    print(\"Rule: \" + items[0] + \" -> \" + items[1])\n",
        "\n",
        "    print(\"Support: \" + str(item[1]))\n",
        "\n",
        "    print(\"Confidence: \" + str(item[2][0][2]))\n",
        "    print(\"Lift: \" + str(item[2][0][3]))\n",
        "    print(\"=====================================\")\n",
        "     "
      ],
      "metadata": {
        "colab": {
          "base_uri": "https://localhost:8080/"
        },
        "id": "-KWd8auV4_aq",
        "outputId": "6c6dc2c7-4841-4292-dd2c-03c212cfa438"
      },
      "execution_count": 15,
      "outputs": [
        {
          "output_type": "stream",
          "name": "stdout",
          "text": [
            "Rule: light cream -> chicken\n",
            "Support: 0.004533333333333334\n",
            "Confidence: 0.2905982905982906\n",
            "Lift: 4.843304843304844\n",
            "=====================================\n",
            "Rule: mushroom cream sauce -> escalope\n",
            "Support: 0.005733333333333333\n",
            "Confidence: 0.30069930069930073\n",
            "Lift: 3.7903273197390845\n",
            "=====================================\n",
            "Rule: pasta -> escalope\n",
            "Support: 0.005866666666666667\n",
            "Confidence: 0.37288135593220345\n",
            "Lift: 4.700185158809287\n",
            "=====================================\n",
            "Rule: herb & pepper -> ground beef\n",
            "Support: 0.016\n",
            "Confidence: 0.3234501347708895\n",
            "Lift: 3.2915549671393096\n",
            "=====================================\n",
            "Rule: ground beef -> tomato sauce\n",
            "Support: 0.005333333333333333\n",
            "Confidence: 0.37735849056603776\n",
            "Lift: 3.840147461662528\n",
            "=====================================\n",
            "Rule: olive oil -> whole wheat pasta\n",
            "Support: 0.008\n",
            "Confidence: 0.2714932126696833\n",
            "Lift: 4.130221288078346\n",
            "=====================================\n",
            "Rule: pasta -> shrimp\n",
            "Support: 0.005066666666666666\n",
            "Confidence: 0.3220338983050848\n",
            "Lift: 4.514493901473151\n",
            "=====================================\n",
            "Rule: light cream -> nan\n",
            "Support: 0.004533333333333334\n",
            "Confidence: 0.2905982905982906\n",
            "Lift: 4.843304843304844\n",
            "=====================================\n",
            "Rule: frozen vegetables -> chocolate\n",
            "Support: 0.005333333333333333\n",
            "Confidence: 0.23255813953488372\n",
            "Lift: 3.260160834601174\n",
            "=====================================\n",
            "Rule: ground beef -> spaghetti\n",
            "Support: 0.0048\n",
            "Confidence: 0.5714285714285714\n",
            "Lift: 3.281557646029315\n",
            "=====================================\n",
            "Rule: nan -> mushroom cream sauce\n",
            "Support: 0.005733333333333333\n",
            "Confidence: 0.30069930069930073\n",
            "Lift: 3.7903273197390845\n",
            "=====================================\n",
            "Rule: pasta -> nan\n",
            "Support: 0.005866666666666667\n",
            "Confidence: 0.37288135593220345\n",
            "Lift: 4.700185158809287\n",
            "=====================================\n",
            "Rule: frozen vegetables -> spaghetti\n",
            "Support: 0.008666666666666666\n",
            "Confidence: 0.3110047846889952\n",
            "Lift: 3.164906221394116\n",
            "=====================================\n",
            "Rule: olive oil -> frozen vegetables\n",
            "Support: 0.0048\n",
            "Confidence: 0.20338983050847456\n",
            "Lift: 3.094165778526489\n",
            "=====================================\n",
            "Rule: mineral water -> frozen vegetables\n",
            "Support: 0.0072\n",
            "Confidence: 0.3068181818181818\n",
            "Lift: 3.2183725365543547\n",
            "=====================================\n",
            "Rule: olive oil -> frozen vegetables\n",
            "Support: 0.005733333333333333\n",
            "Confidence: 0.20574162679425836\n",
            "Lift: 3.1299436124887174\n",
            "=====================================\n",
            "Rule: frozen vegetables -> spaghetti\n",
            "Support: 0.006\n",
            "Confidence: 0.21531100478468898\n",
            "Lift: 3.0183785717479763\n",
            "=====================================\n",
            "Rule: frozen vegetables -> spaghetti\n",
            "Support: 0.006666666666666667\n",
            "Confidence: 0.23923444976076555\n",
            "Lift: 3.497579674864993\n",
            "=====================================\n",
            "Rule: spaghetti -> ground beef\n",
            "Support: 0.005333333333333333\n",
            "Confidence: 0.3225806451612903\n",
            "Lift: 3.282706701098612\n",
            "=====================================\n",
            "Rule: mineral water -> herb & pepper\n",
            "Support: 0.006666666666666667\n",
            "Confidence: 0.390625\n",
            "Lift: 3.975152645861601\n",
            "=====================================\n",
            "Rule: herb & pepper -> nan\n",
            "Support: 0.016\n",
            "Confidence: 0.3234501347708895\n",
            "Lift: 3.2915549671393096\n",
            "=====================================\n",
            "Rule: herb & pepper -> spaghetti\n",
            "Support: 0.0064\n",
            "Confidence: 0.3934426229508197\n",
            "Lift: 4.003825878061259\n",
            "=====================================\n",
            "Rule: olive oil -> ground beef\n",
            "Support: 0.004933333333333333\n",
            "Confidence: 0.22424242424242424\n",
            "Lift: 3.411395906324912\n",
            "=====================================\n",
            "Rule: nan -> ground beef\n",
            "Support: 0.005333333333333333\n",
            "Confidence: 0.37735849056603776\n",
            "Lift: 3.840147461662528\n",
            "=====================================\n",
            "Rule: shrimp -> spaghetti\n",
            "Support: 0.006\n",
            "Confidence: 0.5232558139534884\n",
            "Lift: 3.004914704939635\n",
            "=====================================\n",
            "Rule: olive oil -> spaghetti\n",
            "Support: 0.0072\n",
            "Confidence: 0.20300751879699247\n",
            "Lift: 3.0883496774390333\n",
            "=====================================\n",
            "Rule: mineral water -> olive oil\n",
            "Support: 0.0052\n",
            "Confidence: 0.2254335260115607\n",
            "Lift: 3.4295161157945335\n",
            "=====================================\n",
            "Rule: olive oil -> nan\n",
            "Support: 0.008\n",
            "Confidence: 0.2714932126696833\n",
            "Lift: 4.130221288078346\n",
            "=====================================\n",
            "Rule: pasta -> shrimp\n",
            "Support: 0.005066666666666666\n",
            "Confidence: 0.3220338983050848\n",
            "Lift: 4.514493901473151\n",
            "=====================================\n",
            "Rule: olive oil -> pancakes\n",
            "Support: 0.005066666666666666\n",
            "Confidence: 0.20105820105820105\n",
            "Lift: 3.0586947422647217\n",
            "=====================================\n",
            "Rule: shrimp -> frozen vegetables\n",
            "Support: 0.005333333333333333\n",
            "Confidence: 0.23255813953488372\n",
            "Lift: 3.260160834601174\n",
            "=====================================\n",
            "Rule: ground beef -> nan\n",
            "Support: 0.0048\n",
            "Confidence: 0.5714285714285714\n",
            "Lift: 3.281557646029315\n",
            "=====================================\n",
            "Rule: frozen vegetables -> nan\n",
            "Support: 0.008666666666666666\n",
            "Confidence: 0.3110047846889952\n",
            "Lift: 3.164906221394116\n",
            "=====================================\n",
            "Rule: mineral water -> frozen vegetables\n",
            "Support: 0.004533333333333334\n",
            "Confidence: 0.28813559322033905\n",
            "Lift: 3.0224013274860737\n",
            "=====================================\n",
            "Rule: olive oil -> frozen vegetables\n",
            "Support: 0.0048\n",
            "Confidence: 0.20338983050847456\n",
            "Lift: 3.094165778526489\n",
            "=====================================\n",
            "Rule: mineral water -> frozen vegetables\n",
            "Support: 0.0072\n",
            "Confidence: 0.3068181818181818\n",
            "Lift: 3.2183725365543547\n",
            "=====================================\n",
            "Rule: olive oil -> frozen vegetables\n",
            "Support: 0.005733333333333333\n",
            "Confidence: 0.20574162679425836\n",
            "Lift: 3.1299436124887174\n",
            "=====================================\n",
            "Rule: frozen vegetables -> nan\n",
            "Support: 0.006\n",
            "Confidence: 0.21531100478468898\n",
            "Lift: 3.0183785717479763\n",
            "=====================================\n",
            "Rule: frozen vegetables -> nan\n",
            "Support: 0.006666666666666667\n",
            "Confidence: 0.23923444976076555\n",
            "Lift: 3.497579674864993\n",
            "=====================================\n",
            "Rule: nan -> ground beef\n",
            "Support: 0.005333333333333333\n",
            "Confidence: 0.3225806451612903\n",
            "Lift: 3.282706701098612\n",
            "=====================================\n",
            "Rule: mineral water -> herb & pepper\n",
            "Support: 0.006666666666666667\n",
            "Confidence: 0.390625\n",
            "Lift: 3.975152645861601\n",
            "=====================================\n",
            "Rule: herb & pepper -> nan\n",
            "Support: 0.0064\n",
            "Confidence: 0.3934426229508197\n",
            "Lift: 4.003825878061259\n",
            "=====================================\n",
            "Rule: olive oil -> nan\n",
            "Support: 0.004933333333333333\n",
            "Confidence: 0.22424242424242424\n",
            "Lift: 3.411395906324912\n",
            "=====================================\n",
            "Rule: shrimp -> nan\n",
            "Support: 0.006\n",
            "Confidence: 0.5232558139534884\n",
            "Lift: 3.004914704939635\n",
            "=====================================\n",
            "Rule: olive oil -> nan\n",
            "Support: 0.0072\n",
            "Confidence: 0.20300751879699247\n",
            "Lift: 3.0883496774390333\n",
            "=====================================\n",
            "Rule: mineral water -> nan\n",
            "Support: 0.0052\n",
            "Confidence: 0.2254335260115607\n",
            "Lift: 3.4295161157945335\n",
            "=====================================\n",
            "Rule: olive oil -> pancakes\n",
            "Support: 0.005066666666666666\n",
            "Confidence: 0.20105820105820105\n",
            "Lift: 3.0586947422647217\n",
            "=====================================\n",
            "Rule: milk -> frozen vegetables\n",
            "Support: 0.004533333333333334\n",
            "Confidence: 0.28813559322033905\n",
            "Lift: 3.0224013274860737\n",
            "=====================================\n"
          ]
        }
      ]
    },
    {
      "cell_type": "code",
      "source": [
        "import networkx as nx\n",
        "df['food'] = 'Food'\n",
        "food = df.truncate(before = -1, after = 15)\n",
        "food = nx.from_pandas_edgelist(food, source = 'food', target = 0, edge_attr = True)\n",
        "     "
      ],
      "metadata": {
        "id": "DGVQDp4m4_YT"
      },
      "execution_count": 16,
      "outputs": []
    },
    {
      "cell_type": "code",
      "source": [
        "import warnings\n",
        "warnings.filterwarnings('ignore')\n",
        "\n",
        "plt.rcParams['figure.figsize'] = (13, 13)\n",
        "pos = nx.spring_layout(food)\n",
        "color = plt.cm.Set1(np.linspace(0, 15, 1))\n",
        "nx.draw_networkx_nodes(food, pos, node_size = 15000, node_color = 'GREEN')\n",
        "nx.draw_networkx_edges(food, pos, width = 3, alpha = 0.6, edge_color = 'BLUE')\n",
        "nx.draw_networkx_labels(food, pos, font_size = 13, font_family = 'Times New Roman', font_color='WHITE')\n",
        "plt.axis('off')\n",
        "plt.grid()\n",
        "plt.title('Top 15 Choices for Groceries', fontsize = 20)\n",
        "plt.show()"
      ],
      "metadata": {
        "colab": {
          "base_uri": "https://localhost:8080/",
          "height": 705
        },
        "id": "OpP7HTAP4_WN",
        "outputId": "62c71121-3dda-4e88-b7f8-6fb3ce2378d5"
      },
      "execution_count": 21,
      "outputs": [
        {
          "output_type": "stream",
          "name": "stderr",
          "text": [
            "WARNING:matplotlib.font_manager:findfont: Font family ['Times New Roman'] not found. Falling back to DejaVu Sans.\n"
          ]
        },
        {
          "output_type": "display_data",
          "data": {
            "text/plain": [
              "<Figure size 936x936 with 1 Axes>"
            ],
            "image/png": "[encoded data removed]"
          },
          "metadata": {}
        }
      ]
    },
    {
      "cell_type": "code",
      "source": [],
      "metadata": {
        "id": "S49c4W9X4_UI"
      },
      "execution_count": null,
      "outputs": []
    },
    {
      "cell_type": "code",
      "source": [],
      "metadata": {
        "id": "d8HEYf224_SD"
      },
      "execution_count": null,
      "outputs": []
    },
    {
      "cell_type": "code",
      "source": [],
      "metadata": {
        "id": "5WnQ6JcK4_Pt"
      },
      "execution_count": null,
      "outputs": []
    },
    {
      "cell_type": "code",
      "source": [],
      "metadata": {
        "id": "70_9KxLb4_NX"
      },
      "execution_count": null,
      "outputs": []
    },
    {
      "cell_type": "code",
      "source": [],
      "metadata": {
        "id": "zAGbIzSK4_LS"
      },
      "execution_count": null,
      "outputs": []
    },
    {
      "cell_type": "code",
      "source": [],
      "metadata": {
        "id": "bEdQ3d9j4_I8"
      },
      "execution_count": null,
      "outputs": []
    }
  ]
}